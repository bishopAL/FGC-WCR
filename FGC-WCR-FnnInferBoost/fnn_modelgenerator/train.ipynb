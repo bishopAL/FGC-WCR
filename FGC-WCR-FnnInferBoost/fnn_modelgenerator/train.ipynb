{
 "cells": [
  {
   "cell_type": "code",
   "execution_count": 1,
   "metadata": {},
   "outputs": [],
   "source": [
    "from scipy.io import loadmat\n",
    "data = loadmat('trainingData.mat')\n",
    "data = data['dataRecord']\n"
   ]
  },
  {
   "cell_type": "code",
   "execution_count": 3,
   "metadata": {},
   "outputs": [
    {
     "name": "stdout",
     "output_type": "stream",
     "text": [
      "Epoch 1/100, Training Loss: 0.0462, Validation Loss: 0.0307\n",
      "Epoch 2/100, Training Loss: 0.0219, Validation Loss: 0.0144\n",
      "Epoch 3/100, Training Loss: 0.0100, Validation Loss: 0.0062\n",
      "Epoch 4/100, Training Loss: 0.0041, Validation Loss: 0.0023\n",
      "Epoch 5/100, Training Loss: 0.0014, Validation Loss: 0.0007\n",
      "Epoch 6/100, Training Loss: 0.0004, Validation Loss: 0.0002\n",
      "Epoch 7/100, Training Loss: 0.0001, Validation Loss: 0.0000\n",
      "Epoch 8/100, Training Loss: 0.0000, Validation Loss: 0.0000\n",
      "Epoch 9/100, Training Loss: 0.0000, Validation Loss: 0.0000\n",
      "Epoch 10/100, Training Loss: 0.0000, Validation Loss: 0.0000\n",
      "Epoch 11/100, Training Loss: 0.0000, Validation Loss: 0.0000\n",
      "Epoch 12/100, Training Loss: 0.0000, Validation Loss: 0.0000\n",
      "Epoch 13/100, Training Loss: 0.0000, Validation Loss: 0.0000\n",
      "Epoch 14/100, Training Loss: 0.0000, Validation Loss: 0.0000\n",
      "Epoch 15/100, Training Loss: 0.0000, Validation Loss: 0.0000\n",
      "Epoch 16/100, Training Loss: 0.0000, Validation Loss: 0.0000\n",
      "Epoch 17/100, Training Loss: 0.0000, Validation Loss: 0.0000\n",
      "Epoch 18/100, Training Loss: 0.0000, Validation Loss: 0.0000\n",
      "Epoch 19/100, Training Loss: 0.0000, Validation Loss: 0.0000\n",
      "Epoch 20/100, Training Loss: 0.0000, Validation Loss: 0.0000\n",
      "Epoch 21/100, Training Loss: 0.0000, Validation Loss: 0.0000\n",
      "Epoch 22/100, Training Loss: 0.0000, Validation Loss: 0.0000\n",
      "Epoch 23/100, Training Loss: 0.0000, Validation Loss: 0.0000\n",
      "Epoch 24/100, Training Loss: 0.0000, Validation Loss: 0.0000\n",
      "Epoch 25/100, Training Loss: 0.0000, Validation Loss: 0.0000\n",
      "Epoch 26/100, Training Loss: 0.0000, Validation Loss: 0.0000\n",
      "Epoch 27/100, Training Loss: 0.0000, Validation Loss: 0.0000\n",
      "Epoch 28/100, Training Loss: 0.0000, Validation Loss: 0.0000\n",
      "Epoch 29/100, Training Loss: 0.0000, Validation Loss: 0.0000\n",
      "Epoch 30/100, Training Loss: 0.0000, Validation Loss: 0.0000\n",
      "Epoch 31/100, Training Loss: 0.0000, Validation Loss: 0.0000\n",
      "Epoch 32/100, Training Loss: 0.0000, Validation Loss: 0.0000\n",
      "Epoch 33/100, Training Loss: 0.0000, Validation Loss: 0.0000\n",
      "Epoch 34/100, Training Loss: 0.0000, Validation Loss: 0.0000\n",
      "Epoch 35/100, Training Loss: 0.0000, Validation Loss: 0.0000\n",
      "Epoch 36/100, Training Loss: 0.0000, Validation Loss: 0.0000\n",
      "Epoch 37/100, Training Loss: 0.0000, Validation Loss: 0.0000\n",
      "Epoch 38/100, Training Loss: 0.0000, Validation Loss: 0.0000\n",
      "Epoch 39/100, Training Loss: 0.0000, Validation Loss: 0.0000\n",
      "Epoch 40/100, Training Loss: 0.0000, Validation Loss: 0.0000\n",
      "Epoch 41/100, Training Loss: 0.0000, Validation Loss: 0.0000\n",
      "Epoch 42/100, Training Loss: 0.0000, Validation Loss: 0.0000\n",
      "Epoch 43/100, Training Loss: 0.0000, Validation Loss: 0.0000\n",
      "Epoch 44/100, Training Loss: 0.0000, Validation Loss: 0.0000\n",
      "Epoch 45/100, Training Loss: 0.0000, Validation Loss: 0.0000\n",
      "Epoch 46/100, Training Loss: 0.0000, Validation Loss: 0.0000\n",
      "Epoch 47/100, Training Loss: 0.0000, Validation Loss: 0.0000\n",
      "Epoch 48/100, Training Loss: 0.0000, Validation Loss: 0.0000\n",
      "Epoch 49/100, Training Loss: 0.0000, Validation Loss: 0.0000\n",
      "Epoch 50/100, Training Loss: 0.0000, Validation Loss: 0.0000\n",
      "Epoch 51/100, Training Loss: 0.0000, Validation Loss: 0.0000\n",
      "Epoch 52/100, Training Loss: 0.0000, Validation Loss: 0.0000\n",
      "Epoch 53/100, Training Loss: 0.0000, Validation Loss: 0.0000\n",
      "Epoch 54/100, Training Loss: 0.0000, Validation Loss: 0.0000\n",
      "Epoch 55/100, Training Loss: 0.0000, Validation Loss: 0.0000\n",
      "Epoch 56/100, Training Loss: 0.0000, Validation Loss: 0.0000\n",
      "Epoch 57/100, Training Loss: 0.0000, Validation Loss: 0.0000\n",
      "Epoch 58/100, Training Loss: 0.0000, Validation Loss: 0.0000\n",
      "Epoch 59/100, Training Loss: 0.0000, Validation Loss: 0.0000\n",
      "Epoch 60/100, Training Loss: 0.0000, Validation Loss: 0.0000\n",
      "Epoch 61/100, Training Loss: 0.0000, Validation Loss: 0.0000\n",
      "Epoch 62/100, Training Loss: 0.0000, Validation Loss: 0.0000\n",
      "Epoch 63/100, Training Loss: 0.0000, Validation Loss: 0.0000\n",
      "Epoch 64/100, Training Loss: 0.0000, Validation Loss: 0.0000\n",
      "Epoch 65/100, Training Loss: 0.0000, Validation Loss: 0.0000\n",
      "Epoch 66/100, Training Loss: 0.0000, Validation Loss: 0.0000\n",
      "Epoch 67/100, Training Loss: 0.0000, Validation Loss: 0.0000\n",
      "Epoch 68/100, Training Loss: 0.0000, Validation Loss: 0.0000\n",
      "Epoch 69/100, Training Loss: 0.0000, Validation Loss: 0.0000\n",
      "Epoch 70/100, Training Loss: 0.0000, Validation Loss: 0.0000\n",
      "Epoch 71/100, Training Loss: 0.0000, Validation Loss: 0.0000\n",
      "Epoch 72/100, Training Loss: 0.0000, Validation Loss: 0.0000\n",
      "Epoch 73/100, Training Loss: 0.0000, Validation Loss: 0.0000\n",
      "Epoch 74/100, Training Loss: 0.0000, Validation Loss: 0.0000\n",
      "Epoch 75/100, Training Loss: 0.0000, Validation Loss: 0.0000\n",
      "Epoch 76/100, Training Loss: 0.0000, Validation Loss: 0.0000\n",
      "Epoch 77/100, Training Loss: 0.0000, Validation Loss: 0.0000\n",
      "Epoch 78/100, Training Loss: 0.0000, Validation Loss: 0.0000\n",
      "Epoch 79/100, Training Loss: 0.0000, Validation Loss: 0.0000\n",
      "Epoch 80/100, Training Loss: 0.0000, Validation Loss: 0.0000\n",
      "Epoch 81/100, Training Loss: 0.0000, Validation Loss: 0.0000\n",
      "Epoch 82/100, Training Loss: 0.0000, Validation Loss: 0.0000\n",
      "Epoch 83/100, Training Loss: 0.0000, Validation Loss: 0.0000\n",
      "Epoch 84/100, Training Loss: 0.0000, Validation Loss: 0.0000\n",
      "Epoch 85/100, Training Loss: 0.0000, Validation Loss: 0.0000\n",
      "Epoch 86/100, Training Loss: 0.0000, Validation Loss: 0.0000\n",
      "Epoch 87/100, Training Loss: 0.0000, Validation Loss: 0.0000\n",
      "Epoch 88/100, Training Loss: 0.0000, Validation Loss: 0.0000\n",
      "Epoch 89/100, Training Loss: 0.0000, Validation Loss: 0.0000\n",
      "Epoch 90/100, Training Loss: 0.0000, Validation Loss: 0.0000\n",
      "Epoch 91/100, Training Loss: 0.0000, Validation Loss: 0.0000\n",
      "Epoch 92/100, Training Loss: 0.0000, Validation Loss: 0.0000\n",
      "Epoch 93/100, Training Loss: 0.0000, Validation Loss: 0.0000\n",
      "Epoch 94/100, Training Loss: 0.0000, Validation Loss: 0.0000\n",
      "Epoch 95/100, Training Loss: 0.0000, Validation Loss: 0.0000\n",
      "Epoch 96/100, Training Loss: 0.0000, Validation Loss: 0.0000\n",
      "Epoch 97/100, Training Loss: 0.0000, Validation Loss: 0.0000\n",
      "Epoch 98/100, Training Loss: 0.0000, Validation Loss: 0.0000\n",
      "Epoch 99/100, Training Loss: 0.0000, Validation Loss: 0.0000\n",
      "Epoch 100/100, Training Loss: 0.0000, Validation Loss: 0.0000\n"
     ]
    },
    {
     "data": {
      "image/png": "[encoded data removed]",
      "text/plain": [
       "<Figure size 640x480 with 1 Axes>"
      ]
     },
     "metadata": {},
     "output_type": "display_data"
    }
   ],
   "source": [
    "import torch\n",
    "import torch.nn as nn\n",
    "import torch.optim as optim\n",
    "from torch.utils.data import DataLoader, TensorDataset, random_split\n",
    "import numpy as np\n",
    "\n",
    "# 假设你的数据是numpy数组形式，需要转换成torch Tensor\n",
    "inputs = torch.tensor(data[:, :6], dtype=torch.float32)\n",
    "outputs = torch.tensor(data[:, 6:], dtype=torch.float32)\n",
    "\n",
    "# 创建数据集\n",
    "dataset = TensorDataset(inputs, outputs)\n",
    "\n",
    "# 划分训练集和验证集（例如：80%训练，20%验证）\n",
    "train_size = int(0.8 * len(dataset))\n",
    "val_size = len(dataset) - train_size\n",
    "train_dataset, val_dataset = random_split(dataset, [train_size, val_size])\n",
    "\n",
    "# 创建数据加载器\n",
    "train_dataloader = DataLoader(train_dataset, batch_size=10, shuffle=True)\n",
    "val_dataloader = DataLoader(val_dataset, batch_size=10, shuffle=False)\n",
    "\n",
    "test_size = [4,8,16,32]\n",
    "\n",
    "for i in range(4):\n",
    "    # 定义神经网络模型\n",
    "    class SimpleFNN(nn.Module):\n",
    "        def __init__(self):\n",
    "            super(SimpleFNN, self).__init__()\n",
    "            self.fc1 = nn.Linear(6, test_size[i])  # 输入层到隐藏层\n",
    "            self.fc2 = nn.Linear(test_size[i], 3)  # 输出层\n",
    "\n",
    "        def forward(self, x):\n",
    "            x = torch.relu(self.fc1(x))\n",
    "            return self.fc2(x)\n",
    "\n",
    "    model = SimpleFNN()\n",
    "    model.train()\n",
    "\n",
    "    # 定义损失函数和优化器\n",
    "    criterion = nn.MSELoss()\n",
    "    optimizer = optim.Adam(model.parameters(), lr=0.001)\n",
    "\n",
    "    # 训练网络\n",
    "    epochs = 100\n",
    "    train_losses = []\n",
    "    val_losses = []\n",
    "\n",
    "    for epoch in range(epochs):\n",
    "        # 训练阶段\n",
    "        model.train()\n",
    "        running_train_loss = 0.0\n",
    "        for inputs, labels in train_dataloader:\n",
    "            optimizer.zero_grad()\n",
    "            outputs = model(inputs)\n",
    "            loss = criterion(outputs, labels)\n",
    "            loss.backward()\n",
    "            optimizer.step()\n",
    "            running_train_loss += loss.item() * inputs.size(0)  # 累计每个batch的损失\n",
    "\n",
    "        # 计算并存储平均训练损失\n",
    "        avg_train_loss = running_train_loss / len(train_dataloader.dataset)\n",
    "        train_losses.append(avg_train_loss)\n",
    "\n",
    "        # 验证阶段\n",
    "        model.eval()\n",
    "        running_val_loss = 0.0\n",
    "        with torch.no_grad():  # 禁用梯度计算\n",
    "            for inputs, labels in val_dataloader:\n",
    "                outputs = model(inputs)\n",
    "                loss = criterion(outputs, labels)\n",
    "                running_val_loss += loss.item() * inputs.size(0)  # 累计每个batch的损失\n",
    "\n",
    "        # 计算并存储平均验证损失\n",
    "        avg_val_loss = running_val_loss / len(val_dataloader.dataset)\n",
    "        val_losses.append(avg_val_loss)\n",
    "\n",
    "        # 输出当前epoch的训练和验证损失\n",
    "        print(f'Epoch {epoch+1}/{epochs}, Training Loss: {avg_train_loss:.4f}, Validation Loss: {avg_val_loss:.4f}')\n",
    "\n",
    "    # 绘制训练和验证损失曲线\n",
    "    import matplotlib.pyplot as plt\n",
    "\n",
    "    plt.plot(train_losses, label='Training Loss')\n",
    "    plt.plot(val_losses, label='Validation Loss')\n",
    "    plt.xlabel('Epoch')\n",
    "    plt.ylabel('Loss')\n",
    "    plt.legend()\n",
    "    plt.show()"
   ]
  },
  {
   "cell_type": "code",
   "execution_count": 3,
   "metadata": {},
   "outputs": [
    {
     "name": "stdout",
     "output_type": "stream",
     "text": [
      "Prediction: [[-0.01489132 -0.01550774 -0.02605757]]\n",
      "-0.01443261, -0.01519005, -0.02687549\n"
     ]
    }
   ],
   "source": [
    "# infer and save\n",
    "test_input = torch.tensor([[0.11412254, -0.09698317, -0.13648682, -0.08168529,  0.09584415,\n",
    "        -0.08081015]], dtype=torch.float32)  # 示例输入数据\n",
    "with torch.no_grad():\n",
    "    prediction = model(test_input)\n",
    "    print(f'Prediction: {prediction.numpy()}')\n",
    "    print(\"-0.01443261, -0.01519005, -0.02687549\")\n",
    "# save the model\n",
    "scripted_model = torch.jit.script(model)\n",
    "torch.jit.save(scripted_model, '../model/model.pth')"
   ]
  },
  {
   "cell_type": "code",
   "execution_count": 4,
   "metadata": {},
   "outputs": [],
   "source": [
    "for name, param in model.named_parameters():\n",
    "    # 保存权重\n",
    "    np.savetxt(f\"../model/{name}_weight.txt\", param.data.cpu().numpy())\n",
    "\n",
    "    # 检查是否存在偏置，并保存\n",
    "    if hasattr(param, 'bias') and param.bias is not None:\n",
    "        np.savetxt(f\"./model/{name}_bias.txt\", param.bias.data.cpu().numpy())"
   ]
  },
  {
   "cell_type": "code",
   "execution_count": 4,
   "metadata": {},
   "outputs": [
    {
     "data": {
      "text/plain": [
       "<generator object Module.named_parameters at 0x321720d40>"
      ]
     },
     "execution_count": 4,
     "metadata": {},
     "output_type": "execute_result"
    }
   ],
   "source": [
    "model.named_parameters()"
   ]
  },
  {
   "cell_type": "code",
   "execution_count": 71,
   "metadata": {},
   "outputs": [
    {
     "name": "stdout",
     "output_type": "stream",
     "text": [
      "Average loss on the test dataset: 5.30677266397106e-07\n"
     ]
    }
   ],
   "source": [
    "data = loadmat('testingData.mat')\n",
    "test_data = data['dataRecord']\n",
    "\n",
    "# 测试数据集，应该与训练数据集具有相同的结构\n",
    "test_inputs = torch.tensor(test_data[:, :6], dtype=torch.float32)\n",
    "test_outputs = torch.tensor(test_data[:, 6:], dtype=torch.float32)\n",
    "\n",
    "# 创建测试 DataLoader\n",
    "test_dataset = TensorDataset(test_inputs, test_outputs)\n",
    "test_loader = DataLoader(test_dataset, batch_size=10)\n",
    "\n",
    "# 将模型设置为评估模式\n",
    "model.eval()\n",
    "\n",
    "# 初始化损失计算\n",
    "test_loss = 0.0\n",
    "with torch.no_grad():  # 确保不进行梯度计算\n",
    "    for inputs, labels in test_loader:\n",
    "        # 前向传播\n",
    "        outputs = model(inputs)\n",
    "        # 计算损失\n",
    "        loss = criterion(outputs, labels)\n",
    "        test_loss += loss.item()\n",
    "\n",
    "# 平均损失\n",
    "test_loss /= len(test_loader)\n",
    "print(f'Average loss on the test dataset: {test_loss}')\n"
   ]
  },
  {
   "cell_type": "code",
   "execution_count": 72,
   "metadata": {},
   "outputs": [
    {
     "name": "stdout",
     "output_type": "stream",
     "text": [
      "Average loss on the test dataset: 4.0735253321599884e-07\n"
     ]
    }
   ],
   "source": [
    "qm = torch.quantization.quantize_dynamic(model, {nn.Linear,torch.relu}, dtype=torch.qint8)\n",
    "qm.eval()\n",
    "\n",
    "# 初始化损失计算\n",
    "test_loss = 0.0\n",
    "with torch.no_grad():  # 确保不进行梯度计算\n",
    "    for inputs, labels in test_loader:\n",
    "        # 前向传播\n",
    "        outputs = qm(inputs)\n",
    "        # 计算损失\n",
    "        loss = criterion(outputs, labels)\n",
    "        test_loss += loss.item()\n",
    "\n",
    "# 平均损失\n",
    "test_loss /= len(test_loader)\n",
    "print(f'Average loss on the test dataset: {test_loss}')\n",
    "scripted_qmodel = torch.jit.script(qm)\n",
    "torch.jit.save(scripted_qmodel, '../model/qmodel.pth')"
   ]
  }
 ],
 "metadata": {
  "kernelspec": {
   "display_name": "Python 3 (ipykernel)",
   "language": "python",
   "name": "python3"
  },
  "language_info": {
   "codemirror_mode": {
    "name": "ipython",
    "version": 3
   },
   "file_extension": ".py",
   "mimetype": "text/x-python",
   "name": "python",
   "nbconvert_exporter": "python",
   "pygments_lexer": "ipython3",
   "version": "3.11.5"
  }
 },
 "nbformat": 4,
 "nbformat_minor": 2
}
